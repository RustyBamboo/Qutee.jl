{
 "cells": [
  {
   "cell_type": "code",
   "execution_count": 1,
   "metadata": {},
   "outputs": [],
   "source": [
    "using LinearAlgebra\n",
    "\n",
    "using Qutee\n",
    "using Qutee.QuantumInfo.KrausDecompose: KrausRepresentation\n",
    "using Qutee.QuantumInfo.Optimization: kraus2stiefel"
   ]
  },
  {
   "cell_type": "markdown",
   "metadata": {},
   "source": [
    "# Kraus Operators\n",
    "\n",
    "By Stinespring Dilation theorem, we may express the evolution of a density matrix by considering a larger space:\n",
    "\n",
    "$$\\mathcal{E}(\\rho) = \\mathrm{tr}_{env}(\\lbrack U(\\rho \\otimes \\rho_{env} )U^{\\dagger}\\rbrack) = \\sum_e K_e \\rho K_e^\\dagger$$\n",
    "\n",
    "\n",
    "The following code produces the Kraus Operators given an environment (detector) state $\\rho_{env}$ and a unitary matrix."
   ]
  },
  {
   "cell_type": "markdown",
   "metadata": {},
   "source": [
    "**Example: Nielsen & Chuang CNOT (8.6, pg. 359)**\n",
    "\n",
    "Let $U$ be a CNOT gate, and $\\rho_{env} = \\ket{0}\\bra{0}$. Then, the Kraus operators are $P_m = \\ket{m}\\bra{m}$, giving:\n",
    "$$\\mathcal{E}(\\rho) = P_0\\rho P_0 + P_1 \\rho P_1$$"
   ]
  },
  {
   "cell_type": "code",
   "execution_count": 2,
   "metadata": {},
   "outputs": [
    {
     "data": {
      "text/plain": [
       "4×4 Matrix{Int64}:\n",
       " 0  0  1  0\n",
       " 0  1  0  0\n",
       " 1  0  0  0\n",
       " 0  0  0  1"
      ]
     },
     "metadata": {},
     "output_type": "display_data"
    }
   ],
   "source": [
    "U = [0 0 1 0; 0 1 0 0; 1 0 0 0; 0 0 0 1]"
   ]
  },
  {
   "cell_type": "code",
   "execution_count": 3,
   "metadata": {},
   "outputs": [
    {
     "data": {
      "text/plain": [
       "2×2 Matrix{Int64}:\n",
       " 1  0\n",
       " 0  0"
      ]
     },
     "metadata": {},
     "output_type": "display_data"
    }
   ],
   "source": [
    "rho_d = [1 0; 0 0]\n"
   ]
  },
  {
   "cell_type": "code",
   "execution_count": 4,
   "metadata": {},
   "outputs": [
    {
     "data": {
      "text/plain": [
       "Dict{Tuple{Int64, Int64}, AbstractMatrix} with 2 entries:\n",
       "  (1, 1) => [-1.0 0.0; 0.0 0.0]\n",
       "  (0, 1) => [0.0 0.0; 0.0 -1.0]"
      ]
     },
     "metadata": {},
     "output_type": "display_data"
    }
   ],
   "source": [
    "# Obtain a dictionary of Kraus operators, where the key corresponds with $\\bra{i}$ and $\\ket{e}$\n",
    "\n",
    "K = KrausRepresentation(U, rho_d)"
   ]
  },
  {
   "cell_type": "code",
   "execution_count": 5,
   "metadata": {},
   "outputs": [
    {
     "data": {
      "text/plain": [
       "2×2×2 Array{Float64, 3}:\n",
       "[:, :, 1] =\n",
       " -1.0  0.0\n",
       "  0.0  0.0\n",
       "\n",
       "[:, :, 2] =\n",
       " 0.0   0.0\n",
       " 0.0  -1.0"
      ]
     },
     "metadata": {},
     "output_type": "display_data"
    }
   ],
   "source": [
    "# We see that we obtain the correct Kraus operators\n",
    "K = Array(K)"
   ]
  },
  {
   "cell_type": "code",
   "execution_count": 6,
   "metadata": {},
   "outputs": [
    {
     "data": {
      "text/plain": [
       "true"
      ]
     },
     "metadata": {},
     "output_type": "display_data"
    }
   ],
   "source": [
    "# Check if kraus operators are valid\n",
    "k = K |> kraus2stiefel \n",
    "k'k ≈ I(2)"
   ]
  },
  {
   "cell_type": "code",
   "execution_count": 7,
   "metadata": {},
   "outputs": [
    {
     "data": {
      "text/plain": [
       "2×2×2 Array{Float64, 3}:\n",
       "[:, :, 1] =\n",
       " -1.0  0.0\n",
       "  0.0  0.0\n",
       "\n",
       "[:, :, 2] =\n",
       " 0.0   0.0\n",
       " 0.0  -1.0"
      ]
     },
     "metadata": {},
     "output_type": "display_data"
    }
   ],
   "source": [
    "# Create a new unitary matrix from the Kraus operators\n",
    "\n",
    "U_new = zeros(4,4)\n",
    "\n",
    "U_new[begin:2,begin:2] = K[:,:,2]\n",
    "U_new[3:end,begin:2] = K[:,:,1]\n",
    "\n",
    "\n",
    "U_new = Matrix(qr(U_new).Q)\n",
    "\n",
    "KrausRepresentation(U_new, rho_d) |> Array"
   ]
  },
  {
   "cell_type": "markdown",
   "metadata": {},
   "source": [
    "**Example: random $U$ and random $\\rho_{env}$**"
   ]
  },
  {
   "cell_type": "code",
   "execution_count": 8,
   "metadata": {},
   "outputs": [
    {
     "data": {
      "text/plain": [
       "4×4 Matrix{ComplexF64}:\n",
       " -0.272216+0.528609im  -0.358824-0.362119im  …   0.188874-0.168065im\n",
       "  0.164143-0.170149im  -0.350511+0.365915im      0.557268-0.373286im\n",
       " -0.417569+0.467054im  -0.205078+0.468629im     -0.363054+0.161154im\n",
       "  0.325799-0.303197im  -0.438599-0.171244im     -0.522496+0.235392im"
      ]
     },
     "metadata": {},
     "output_type": "display_data"
    }
   ],
   "source": [
    "U = Qutee.QuantumInfo.rand_channel(Array, 1, 4)[:,:,1]"
   ]
  },
  {
   "cell_type": "code",
   "execution_count": 9,
   "metadata": {},
   "outputs": [
    {
     "data": {
      "text/plain": [
       "2×2 Matrix{ComplexF64}:\n",
       " 0.888466+0.0im       0.163541-0.111438im\n",
       " 0.163541+0.111438im  0.111534+0.0im"
      ]
     },
     "metadata": {},
     "output_type": "display_data"
    }
   ],
   "source": [
    "rho_d = Qutee.QuantumInfo.Random.rand_density_hs(Array, 2,2)"
   ]
  },
  {
   "cell_type": "code",
   "execution_count": 10,
   "metadata": {},
   "outputs": [
    {
     "data": {
      "text/plain": [
       "2×2×4 Array{ComplexF64, 3}:\n",
       "[:, :, 1] =\n",
       "  -0.135102+0.0450331im  -0.0760302+0.0356121im\n",
       " 0.00516647-0.133633im    -0.142055+0.121365im\n",
       "\n",
       "[:, :, 2] =\n",
       " -0.138936+0.660309im  0.00683475+0.509343im\n",
       "  0.165873-0.321796im   -0.549671+0.152368im\n",
       "\n",
       "[:, :, 3] =\n",
       "  0.196328+0.545804im  -0.428127-0.129385im\n",
       " 0.0348905-0.109217im   0.047186+0.385848im\n",
       "\n",
       "[:, :, 4] =\n",
       "  0.0624123-0.0461459im  0.0949065-0.00995853im\n",
       " -0.0739496-0.119883im    0.101459-0.0516898im"
      ]
     },
     "metadata": {},
     "output_type": "display_data"
    }
   ],
   "source": [
    "K = KrausRepresentation(U, rho_d)\n",
    "K = Array(K)"
   ]
  },
  {
   "cell_type": "code",
   "execution_count": 11,
   "metadata": {},
   "outputs": [
    {
     "data": {
      "text/plain": [
       "true"
      ]
     },
     "metadata": {},
     "output_type": "display_data"
    }
   ],
   "source": [
    "# Check if kraus operators are valid\n",
    "k = K |> kraus2stiefel \n",
    "k'k ≈ I(2)"
   ]
  }
 ],
 "metadata": {
  "kernelspec": {
   "display_name": "Julia 1.10.2",
   "language": "julia",
   "name": "julia-1.10"
  },
  "language_info": {
   "file_extension": ".jl",
   "mimetype": "application/julia",
   "name": "julia",
   "version": "1.10.2"
  }
 },
 "nbformat": 4,
 "nbformat_minor": 2
}
