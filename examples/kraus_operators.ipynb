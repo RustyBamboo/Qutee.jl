{
 "cells": [
  {
   "cell_type": "code",
   "execution_count": 1,
   "metadata": {},
   "outputs": [],
   "source": [
    "using LinearAlgebra\n",
    "\n",
    "using Qutee\n",
    "using Qutee.QuantumInfo.KrausDecompose: KrausRepresentation\n",
    "using Qutee.QuantumInfo.Optimization: kraus2stiefel"
   ]
  },
  {
   "cell_type": "markdown",
   "metadata": {},
   "source": [
    "# Kraus Operators\n",
    "\n",
    "By Stinespring Dilation theorem, we may express the evolution of a density matrix by considering a larger space:\n",
    "\n",
    "$$\\mathcal{E}(\\rho) = \\mathrm{tr}_{env}(\\lbrack U(\\rho \\otimes \\rho_{env} )U^{\\dagger}\\rbrack) = \\sum_e K_e \\rho K_e^\\dagger$$\n",
    "\n",
    "\n",
    "The following code produces the Kraus Operators given an environment (detector) state $\\rho_{env}$ and a unitary matrix."
   ]
  },
  {
   "cell_type": "markdown",
   "metadata": {},
   "source": [
    "**Example: Nielsen & Chuang CNOT (8.6, pg. 359)**\n",
    "\n",
    "Let $U$ be a CNOT gate, and $\\rho_{env} = \\ket{0}\\bra{0}$. Then, the Kraus operators are $P_m = \\ket{m}\\bra{m}$, giving:\n",
    "$$\\mathcal{E}(\\rho) = P_0\\rho P_0 + P_1 \\rho P_1$$"
   ]
  },
  {
   "cell_type": "code",
   "execution_count": 2,
   "metadata": {},
   "outputs": [
    {
     "data": {
      "text/plain": [
       "4×4 Matrix{Int64}:\n",
       " 1  0  0  0\n",
       " 0  1  0  0\n",
       " 0  0  0  1\n",
       " 0  0  1  0"
      ]
     },
     "metadata": {},
     "output_type": "display_data"
    }
   ],
   "source": [
    "U = [1 0 0 0; 0 1 0 0; 0 0 0 1; 0 0 1 0]"
   ]
  },
  {
   "cell_type": "code",
   "execution_count": 3,
   "metadata": {},
   "outputs": [
    {
     "data": {
      "text/plain": [
       "2×2 Matrix{Int64}:\n",
       " 1  0\n",
       " 0  0"
      ]
     },
     "metadata": {},
     "output_type": "display_data"
    }
   ],
   "source": [
    "rho_d = [1 0; 0 0]\n"
   ]
  },
  {
   "cell_type": "code",
   "execution_count": 4,
   "metadata": {},
   "outputs": [
    {
     "data": {
      "text/plain": [
       "Dict{Tuple{Int64, Int64}, AbstractMatrix} with 2 entries:\n",
       "  (1, 1) => [0.0 0.0; 0.0 -1.0]\n",
       "  (0, 1) => [-1.0 0.0; 0.0 0.0]"
      ]
     },
     "metadata": {},
     "output_type": "display_data"
    }
   ],
   "source": [
    "# Obtain a dictionary of Kraus operators, where the key corresponds with $\\bra{i}$ and $\\ket{e}$\n",
    "\n",
    "K = KrausRepresentation(U, rho_d)"
   ]
  },
  {
   "cell_type": "code",
   "execution_count": 5,
   "metadata": {},
   "outputs": [
    {
     "data": {
      "text/plain": [
       "2×2×2 Array{Float64, 3}:\n",
       "[:, :, 1] =\n",
       " 0.0   0.0\n",
       " 0.0  -1.0\n",
       "\n",
       "[:, :, 2] =\n",
       " -1.0  0.0\n",
       "  0.0  0.0"
      ]
     },
     "metadata": {},
     "output_type": "display_data"
    }
   ],
   "source": [
    "# We see that we obtain the correct Kraus operators\n",
    "Array(K)"
   ]
  },
  {
   "cell_type": "code",
   "execution_count": 6,
   "metadata": {},
   "outputs": [
    {
     "data": {
      "text/plain": [
       "true"
      ]
     },
     "metadata": {},
     "output_type": "display_data"
    }
   ],
   "source": [
    "# Check if kraus operators are valid\n",
    "k = Array(K) |> kraus2stiefel \n",
    "k'k ≈ I(2)"
   ]
  },
  {
   "cell_type": "markdown",
   "metadata": {},
   "source": [
    "**Example: random $U$ and random $\\rho_{env}$**"
   ]
  },
  {
   "cell_type": "code",
   "execution_count": 7,
   "metadata": {},
   "outputs": [
    {
     "data": {
      "text/plain": [
       "4×4 Matrix{ComplexF64}:\n",
       " -0.278324+0.131978im   0.273189+0.423989im  …   0.449521+0.496742im\n",
       "   0.29612+0.275756im  -0.562214+0.369807im      0.490917-0.0229098im\n",
       " -0.320671+0.668843im   -0.18283+0.215175im     -0.349195-0.396343im\n",
       " -0.420787-0.118939im   0.157729+0.433768im     -0.175011+0.00022976im"
      ]
     },
     "metadata": {},
     "output_type": "display_data"
    }
   ],
   "source": [
    "U = Qutee.QuantumInfo.rand_channel(Array, 1, 4)[:,:,1]"
   ]
  },
  {
   "cell_type": "code",
   "execution_count": 8,
   "metadata": {},
   "outputs": [
    {
     "data": {
      "text/plain": [
       "2×2 Matrix{ComplexF64}:\n",
       " 0.450636+0.0im       0.309225-0.321104im\n",
       " 0.309225+0.321104im  0.549364+0.0im"
      ]
     },
     "metadata": {},
     "output_type": "display_data"
    }
   ],
   "source": [
    "rho_d = Qutee.QuantumInfo.Random.rand_density_hs(Array, 2,2)"
   ]
  },
  {
   "cell_type": "code",
   "execution_count": 9,
   "metadata": {},
   "outputs": [
    {
     "data": {
      "text/plain": [
       "2×2×4 Array{ComplexF64, 3}:\n",
       "[:, :, 1] =\n",
       " -0.0579162-0.0148092im   -0.121591-0.0213181im\n",
       "   0.153398-0.0596959im  -0.0383112-0.0490643im\n",
       "\n",
       "[:, :, 2] =\n",
       " 0.0358237+0.607593im  -0.403568-0.161577im\n",
       " -0.130839+0.45804im    0.360785-0.024345im\n",
       "\n",
       "[:, :, 3] =\n",
       "  0.134553+0.497352im   0.12036+0.567445im\n",
       " -0.145441+0.254018im  0.494525-0.218507im\n",
       "\n",
       "[:, :, 4] =\n",
       "  0.0715129+0.0849063im  0.0137709+0.0927764im\n",
       " -0.0876983-0.028365im    0.153411-0.00641291im"
      ]
     },
     "metadata": {},
     "output_type": "display_data"
    }
   ],
   "source": [
    "K = KrausRepresentation(U, rho_d)\n",
    "Array(K)"
   ]
  },
  {
   "cell_type": "code",
   "execution_count": 10,
   "metadata": {},
   "outputs": [
    {
     "data": {
      "text/plain": [
       "true"
      ]
     },
     "metadata": {},
     "output_type": "display_data"
    }
   ],
   "source": [
    "# Check if kraus operators are valid\n",
    "k = Array(K) |> kraus2stiefel \n",
    "k'k ≈ I(2)"
   ]
  }
 ],
 "metadata": {
  "kernelspec": {
   "display_name": "Julia 1.10.2",
   "language": "julia",
   "name": "julia-1.10"
  },
  "language_info": {
   "file_extension": ".jl",
   "mimetype": "application/julia",
   "name": "julia",
   "version": "1.10.2"
  }
 },
 "nbformat": 4,
 "nbformat_minor": 2
}
