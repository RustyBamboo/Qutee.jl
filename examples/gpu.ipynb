{
 "cells": [
  {
   "cell_type": "markdown",
   "metadata": {},
   "source": [
    "# Using Qutee with GPUs\n",
    "\n",
    "Qutee utilizes Julia's [package extensions](https://julialang.org/blog/2023/04/julia-1.9-highlights/#package_extensions) introduced in v1.9 to enable GPU-specific code only if either `AMDGPU` or `CUDA` is loaded.\n",
    "\n",
    "This notebook showcases generating and working with random quantum channels on CPU, AMDGPU, and CUDA."
   ]
  },
  {
   "cell_type": "code",
   "execution_count": 1,
   "metadata": {},
   "outputs": [],
   "source": [
    "using LinearAlgebra\n",
    "using Qutee"
   ]
  },
  {
   "cell_type": "markdown",
   "metadata": {},
   "source": [
    "### CPU"
   ]
  },
  {
   "cell_type": "code",
   "execution_count": 2,
   "metadata": {},
   "outputs": [
    {
     "data": {
      "text/plain": [
       "4×4×2 Array{ComplexF64, 3}:\n",
       "[:, :, 1] =\n",
       " -0.273078-0.0318197im   0.415578-0.232274im   …  -0.121313-0.074587im\n",
       "  0.103909-0.170373im    0.351442+0.0385961im      0.129969-0.228036im\n",
       " 0.0660418+0.221662im   0.0377359+0.0474694im      0.481163-0.402341im\n",
       " -0.194148-0.510425im   -0.278246+0.341777im      0.0130449-0.237546im\n",
       "\n",
       "[:, :, 2] =\n",
       "  -0.303269-0.402762im  -0.0376287-0.25596im   …     0.18089-0.107958im\n",
       "  -0.269977-0.08941im    -0.114598+0.344801im     -0.0411713+0.471713im\n",
       " -0.0926131+0.180982im   -0.388548+0.263695im       0.129087-0.357273im\n",
       "   0.121181+0.376537im   -0.175158+0.017189im      -0.218744-0.00957873im"
      ]
     },
     "metadata": {},
     "output_type": "display_data"
    }
   ],
   "source": [
    "# Create random Kraus operators\n",
    "K_cpu = Qutee.QuantumInfo.rand_channel(Array, 2, 4)"
   ]
  },
  {
   "cell_type": "code",
   "execution_count": 3,
   "metadata": {},
   "outputs": [
    {
     "data": {
      "text/plain": [
       "16×16 Matrix{ComplexF64}:\n",
       "    0.329774+4.14784e-19im  …   0.0741927+0.0199132im\n",
       "    0.094933-0.03179im           0.101739+0.0394324im\n",
       "   -0.069894-0.150617im        -0.0332686-0.0218964im\n",
       "   -0.119146+0.067823im         0.0886026-0.133982im\n",
       "  0.00840871+0.139122im         0.0712797+0.151318im\n",
       "   -0.201318-0.150081im     …   0.0171811+0.00746624im\n",
       " -0.00018691-0.248225im         0.0716828-0.0518202im\n",
       "    0.111305-0.177945im        -0.0466674-0.0670757im\n",
       "   -0.287294-0.038922im        -0.0441588-0.00681591im\n",
       "    0.191646-0.0661947im        0.0931614-0.070298im\n",
       "   -0.184958-0.073034im     …   0.0713242-0.111857im\n",
       "  -0.0159148-0.110163im           0.11669-0.057705im\n",
       "   0.0241241+0.122104im        -0.0223992-0.00444247im\n",
       "   -0.205738-0.0932313im        0.0603522-0.0756799im\n",
       "  -0.0138447+0.285522im         0.0770366+0.188438im\n",
       "   0.0741927-0.0199132im    …    0.104539+0.0im"
      ]
     },
     "metadata": {},
     "output_type": "display_data"
    }
   ],
   "source": [
    "# Convert Kraus to Lindbladian to Choi representation\n",
    "C_cpu = K_cpu |> Qutee.QuantumInfo.kraus2liou |> Qutee.QuantumInfo.liou2choi"
   ]
  },
  {
   "cell_type": "code",
   "execution_count": 4,
   "metadata": {},
   "outputs": [
    {
     "data": {
      "text/plain": [
       "Eigen{ComplexF64, ComplexF64, Matrix{ComplexF64}, Vector{ComplexF64}}\n",
       "values:\n",
       "16-element Vector{ComplexF64}:\n",
       "  -9.441921327366558e-17 + 6.32586412014781e-18im\n",
       "  -8.494127342993761e-17 - 5.987518039853909e-17im\n",
       " -5.1709737348791645e-17 + 1.242187654635975e-17im\n",
       " -3.4351653392194385e-17 - 2.2968130651305388e-17im\n",
       " -1.5838614850522286e-17 - 8.27912501104447e-18im\n",
       "  -1.498385571810135e-17 + 4.741148118634864e-17im\n",
       "  -7.856291723964998e-18 - 2.3433703871877175e-17im\n",
       "   4.718913160829047e-18 + 6.068534941157568e-18im\n",
       "  1.4633594684446926e-17 - 4.327330525429456e-17im\n",
       "   2.712044781835916e-17 + 8.206403863627231e-18im\n",
       "  3.4590704886556373e-17 + 8.821215754242411e-18im\n",
       "   5.467030148102817e-17 + 2.1973424216113842e-17im\n",
       "   8.993838496760719e-17 - 6.428223667111185e-17im\n",
       "   9.127380305681686e-17 + 8.340846597843948e-17im\n",
       "      1.8968863974744896 + 2.742236403905112e-17im\n",
       "      2.1031136025255113 - 2.5018640706342168e-17im\n",
       "vectors:\n",
       "16×16 Matrix{ComplexF64}:\n",
       "   -0.090837+0.0662706im     0.13996+0.0535514im  …    0.368722+0.0im\n",
       "  -0.0375716+0.112601im     0.447658+0.0im            0.0731419-0.103514im\n",
       " -0.00689431-0.180606im    0.0229898-0.0381345im     -0.0516263-0.165957im\n",
       "    0.157445+0.174037im    0.0723057+0.377995im       -0.287504+0.112389im\n",
       "    0.100576-0.0502977im    0.342528-0.120163im       0.0169154+0.0339842im\n",
       "    0.193639-0.39276im      0.293731+0.11315im    …   -0.234536-0.231616im\n",
       "    0.140785-0.0656105im   -0.147258-0.0353508im     -0.0370608-0.309202im\n",
       "    0.285534+0.0264972im  -0.0390853-0.430534im        0.163802-0.133821im\n",
       "   0.0497522+0.218264im     0.124107-0.15753im        -0.323833-0.065977im\n",
       "   0.0284223+0.0687727im   -0.152236+0.165237im        0.148595-0.0515304im\n",
       "  -0.0665742+0.0241829im   0.0615632-0.0458893im  …   -0.324133-0.079144im\n",
       "   -0.103146+0.407756im    -0.146514+0.0413472im      -0.111985-0.159114im\n",
       "   -0.010411+0.018627im    -0.129232+0.0237032im      0.0240065+0.169825im\n",
       "  -0.0222137-0.0812016im   0.0183628-0.0396237im      -0.320836-0.126684im\n",
       "    0.533043+0.0im         -0.102445-0.113916im      -0.0185958+0.183903im\n",
       "    0.138853+0.161969im     0.150148+0.0378349im  …   0.0235373-0.0663871im"
      ]
     },
     "metadata": {},
     "output_type": "display_data"
    }
   ],
   "source": [
    "eigen(C_cpu)"
   ]
  },
  {
   "cell_type": "markdown",
   "metadata": {},
   "source": [
    "### AMDGPU"
   ]
  },
  {
   "cell_type": "code",
   "execution_count": 5,
   "metadata": {},
   "outputs": [
    {
     "data": {
      "text/plain": [
       "0"
      ]
     },
     "metadata": {},
     "output_type": "display_data"
    }
   ],
   "source": [
    "ENV[\"CUDA_VISIBLE_DEVICES\"]=0"
   ]
  },
  {
   "cell_type": "code",
   "execution_count": 6,
   "metadata": {},
   "outputs": [],
   "source": [
    "using AMDGPU"
   ]
  },
  {
   "cell_type": "code",
   "execution_count": 7,
   "metadata": {},
   "outputs": [
    {
     "data": {
      "text/plain": [
       "4×4×2 ROCArray{ComplexF64, 3, AMDGPU.Runtime.Mem.HIPBuffer}:\n",
       "[:, :, 1] =\n",
       " -0.506252+0.249588im  -0.0449542+0.476743im   …  -0.286029-0.251312im\n",
       " -0.452727-0.364581im    0.326291-0.0323277im      0.268179+0.153337im\n",
       "  0.245698-0.199767im    0.289358-0.0612851im     -0.172847-0.3309im\n",
       "  0.228774+0.177886im   0.0936183-0.179309im       0.147694-0.165625im\n",
       "\n",
       "[:, :, 2] =\n",
       "   0.194601-0.0451947im  -0.015702+0.270004im  …  -0.209477-0.0426679im\n",
       " -0.0734357-0.173443im   -0.043775+0.073361im     -0.615463-0.110345im\n",
       "  0.0630076-0.0677073im  -0.439075+0.431865im      0.258594+0.163397im\n",
       "   0.139791-0.236209im    0.241132+0.129995im      0.198357-0.0373312im"
      ]
     },
     "metadata": {},
     "output_type": "display_data"
    }
   ],
   "source": [
    "# Create random Kraus operators\n",
    "K_amd = Qutee.QuantumInfo.rand_channel(ROCArray, 2, 4)"
   ]
  },
  {
   "cell_type": "code",
   "execution_count": 8,
   "metadata": {},
   "outputs": [
    {
     "data": {
      "text/plain": [
       "16×16 ROCArray{ComplexF64, 2, AMDGPU.Runtime.Mem.HIPBuffer}:\n",
       "   0.358498+8.23921e-18im  …  -0.0758212-0.0486854im\n",
       "   0.131747+0.260494im        -0.0145731-0.165975im\n",
       "  -0.158923+0.0294807im        0.0844002+0.000111298im\n",
       " -0.0335402-0.186803im         0.0408727+0.0225284im\n",
       "   0.126489-0.178299im        -0.0987943+0.115938im\n",
       "  -0.185088-0.0527747im    …   0.0421239+0.0621849im\n",
       "  -0.266746+0.0230028im       -0.0503288+0.108146im\n",
       " -0.0510985+0.103605im         0.0865024+0.0238098im\n",
       " -0.0534088-0.0812113im        -0.069198-0.0134388im\n",
       "   0.202885-0.0020957im       -0.0787563+0.0545413im\n",
       "  0.0985645-0.021164im     …  -0.0146272+0.0559319im\n",
       "   0.231684-0.169288im         0.0411284+0.100164im\n",
       "  0.0432422+0.180846im        -0.0405796-0.100775im\n",
       "  -0.212278-0.19385im           -0.10375+0.0222004im\n",
       "  0.0478534+0.254144im         0.0744711-0.0354354im\n",
       " -0.0758212+0.0486854im    …   0.0899846+9.60492e-19im"
      ]
     },
     "metadata": {},
     "output_type": "display_data"
    }
   ],
   "source": [
    "# Convert Kraus to Lindbladian to Choi representation\n",
    "C_amd = K_amd |> Qutee.QuantumInfo.kraus2liou |> Qutee.QuantumInfo.liou2choi"
   ]
  },
  {
   "cell_type": "code",
   "execution_count": 9,
   "metadata": {},
   "outputs": [
    {
     "data": {
      "text/plain": [
       "true"
      ]
     },
     "metadata": {},
     "output_type": "display_data"
    }
   ],
   "source": [
    "C_amd' ≈ C_amd"
   ]
  },
  {
   "cell_type": "code",
   "execution_count": 10,
   "metadata": {},
   "outputs": [
    {
     "data": {
      "text/plain": [
       "Eigen{ComplexF64, Float64, ROCArray{ComplexF64, 2, AMDGPU.Runtime.Mem.HIPBuffer}, ROCArray{Float64, 1, AMDGPU.Runtime.Mem.HIPBuffer}}\n",
       "values:\n",
       "16-element ROCArray{Float64, 1, AMDGPU.Runtime.Mem.HIPBuffer}:\n",
       " -3.257118725472235e-16\n",
       " -2.550453074477815e-16\n",
       " -7.216349734942977e-17\n",
       " -6.59690910992338e-17\n",
       " -5.2631443095171434e-17\n",
       " -3.6334727417666245e-17\n",
       " -8.502290227741244e-18\n",
       "  7.652818292998975e-18\n",
       "  3.686182755548295e-17\n",
       "  3.941950129657524e-17\n",
       "  7.57007497568043e-17\n",
       "  9.310818143605633e-17\n",
       "  2.153931601554487e-16\n",
       "  4.491401751065484e-16\n",
       "  1.7766327493078877\n",
       "  2.223367250692111\n",
       "vectors:\n",
       "16×16 ROCArray{ComplexF64, 2, AMDGPU.Runtime.Mem.HIPBuffer}:\n",
       "   0.405066-0.0247691im    0.154805+0.0981846im   …     0.380937+0.00393504im\n",
       "  -0.187986-0.225128im      -0.1817-0.0311641im         0.059998+0.26612im\n",
       " -0.0439985-0.0181742im   0.0629463+0.00963973im       -0.166211-0.0105055im\n",
       "  0.0333911+0.0238355im  -0.0296464+0.213665im        -0.0315358-0.250248im\n",
       "  -0.247536-0.198839im    0.0465759-0.18512im           0.193658-0.122348im\n",
       " -0.0114053-0.162103im    0.0888409+0.102884im    …    -0.173381-0.0577552im\n",
       "   0.240152-0.0353873im    0.386693+0.113964im         -0.259704+0.128363im\n",
       "  -0.229361-0.0441481im   -0.192473+0.00578884im     -0.00701858+0.0749655im\n",
       " -0.0224451-0.0762079im    0.111861-0.00677163im       -0.106014-0.046108im\n",
       "   0.263375+0.0367239im   0.0474788+0.0103966im         0.266306+0.0521877im\n",
       "  0.0397583+0.0821946im   -0.127487+0.00498141im  …     0.156798-0.00818409im\n",
       "   0.042429+0.213289im    -0.102639+0.0600871im         0.355536-0.233149im\n",
       " -0.0884802-0.0531975im   0.0678967-0.0356642im       -0.0162152+0.217408im\n",
       "   0.200135-0.0124054im   -0.644046-0.271416im         -0.297349-0.130612im\n",
       "   0.544121-0.137308im    -0.267285-0.12719im          0.0823368+0.240413im\n",
       " -0.0787045+0.0im               0.0+0.0im         …   -0.0602317+0.0im"
      ]
     },
     "metadata": {},
     "output_type": "display_data"
    }
   ],
   "source": [
    "eigen(Hermitian(C_amd|>Array)|>ROCArray)"
   ]
  },
  {
   "cell_type": "markdown",
   "metadata": {},
   "source": [
    "### CUDA"
   ]
  },
  {
   "cell_type": "code",
   "execution_count": 11,
   "metadata": {},
   "outputs": [
    {
     "data": {
      "text/plain": [
       "1"
      ]
     },
     "metadata": {},
     "output_type": "display_data"
    }
   ],
   "source": [
    "ENV[\"CUDA_VISIBLE_DEVICES\"]=1"
   ]
  },
  {
   "cell_type": "code",
   "execution_count": 12,
   "metadata": {},
   "outputs": [],
   "source": [
    "using CUDA"
   ]
  },
  {
   "cell_type": "code",
   "execution_count": 13,
   "metadata": {},
   "outputs": [
    {
     "data": {
      "text/plain": [
       "4×4×2 CuArray{ComplexF32, 3, CUDA.Mem.DeviceBuffer}:\n",
       "[:, :, 1] =\n",
       " -0.105387+0.482278im   -0.0223744+0.440753im  …  -0.0678759+0.166575im\n",
       "  0.199275+0.314517im     0.200632-0.381659im      0.0385155+0.248365im\n",
       "  0.160684-0.245397im    0.0451508-0.160228im      -0.351165+0.307919im\n",
       " 0.0122312-0.0525378im    0.254732+0.366068im     -0.0867459+0.225656im\n",
       "\n",
       "[:, :, 2] =\n",
       " -0.234923-0.130656im  -0.128644+0.0123081im  …   0.129874+0.147211im\n",
       "  0.296112+0.206325im   0.112318-0.058748im      -0.224175+0.0122595im\n",
       " 0.0632554+0.483448im  -0.433041-0.163389im       0.109773+0.488485im\n",
       " -0.197605+0.222348im   0.160123-0.346534im       0.413288-0.342757im"
      ]
     },
     "metadata": {},
     "output_type": "display_data"
    }
   ],
   "source": [
    "K_cuda = Qutee.QuantumInfo.rand_channel(CuArray, 2, 4)"
   ]
  },
  {
   "cell_type": "code",
   "execution_count": 14,
   "metadata": {},
   "outputs": [
    {
     "data": {
      "text/plain": [
       "16×16 CuArray{ComplexF32, 2, CUDA.Mem.DeviceBuffer}:\n",
       "    0.315958-1.19702f-9im  …    0.0656635-0.152575im\n",
       "   0.0341628-0.139033im          0.105347+0.114516im\n",
       "   -0.213309-0.156941im         -0.208876+0.206512im\n",
       " -0.00925609-0.0784148im        -0.170795+0.0259606im\n",
       "    0.243537-0.0553583im        0.0440138-0.0721913im\n",
       "    -0.22392-0.0280623im   …   -0.0369717+0.00205155im\n",
       "   0.0410461-0.0230852im        -0.163041-0.212244im\n",
       "    0.157362-0.0591007im         0.245463-0.177572im\n",
       "   0.0888271+0.0337464im      -0.00198276-0.289401im\n",
       "  -0.0130418+0.0292341im        -0.262931-0.162314im\n",
       "   -0.201164-0.149738im    …   -0.0679911+0.13353im\n",
       "   0.0825156+0.0462015im        0.0865672+0.0787394im\n",
       "   0.0377446-0.00243396im       0.0466947+0.106223im\n",
       "    0.166784-0.0769194im       -0.0441469-0.102007im\n",
       "   0.0958988+0.0364953im       -0.0221178+0.292043im\n",
       "   0.0656635+0.152575im    …     0.346735+1.62261f-9im"
      ]
     },
     "metadata": {},
     "output_type": "display_data"
    }
   ],
   "source": [
    "C_cuda = K_cuda |> Qutee.QuantumInfo.kraus2liou |> Qutee.QuantumInfo.liou2choi"
   ]
  },
  {
   "cell_type": "code",
   "execution_count": 15,
   "metadata": {},
   "outputs": [
    {
     "data": {
      "text/plain": [
       "true"
      ]
     },
     "metadata": {},
     "output_type": "display_data"
    }
   ],
   "source": [
    "C_cuda' ≈ C_cuda"
   ]
  },
  {
   "cell_type": "code",
   "execution_count": 16,
   "metadata": {},
   "outputs": [
    {
     "data": {
      "text/plain": [
       "Eigen{ComplexF32, Float32, CuArray{ComplexF32, 2, CUDA.Mem.DeviceBuffer}, CuArray{Float32, 1, CUDA.Mem.DeviceBuffer}}\n",
       "values:\n",
       "16-element CuArray{Float32, 1, CUDA.Mem.DeviceBuffer}:\n",
       " -2.855482f-7\n",
       " -1.3121112f-7\n",
       " -5.7082485f-8\n",
       " -5.357486f-8\n",
       " -4.214764f-8\n",
       " -3.3561687f-8\n",
       "  3.416863f-9\n",
       "  8.524937f-9\n",
       "  1.9800297f-8\n",
       "  3.0370582f-8\n",
       "  4.9842413f-8\n",
       "  5.9510516f-8\n",
       "  7.659113f-8\n",
       "  3.2569662f-7\n",
       "  1.5631877\n",
       "  2.4368105\n",
       "vectors:\n",
       "16×16 CuArray{ComplexF32, 2, CUDA.Mem.DeviceBuffer}:\n",
       "     0.060655-0.105044im    …   0.0197058-0.0206572im\n",
       "    0.0498705+0.0329564im        0.203592+0.18623im\n",
       "    0.0741959+0.0922092im       -0.132096+0.176592im\n",
       "   -0.0797717+0.0684651im       -0.169176+0.0457234im\n",
       "    0.0552087-0.15947im         0.0379554+0.0515712im\n",
       "    -0.121524+0.034469im    …   0.0111595-0.113247im\n",
       "   -0.0579142+0.0989679im       -0.203839-0.236106im\n",
       "    0.0675381-0.0942077im        0.306652-0.130782im\n",
       "   -0.0149007+0.0978508im       -0.043415-0.320783im\n",
       "   -0.0641535+0.36247im         -0.346337-0.210794im\n",
       "   -0.0848109-0.0278903im   …   0.0368444+0.0875146im\n",
       "     0.037136-0.0504252im       0.0694173+0.133164im\n",
       "    0.0336029-0.113486im        0.0548883+0.153222im\n",
       " -0.000313151-0.00630337im     -0.0469692-0.0217352im\n",
       "    -0.710564+0.311754im       -0.0597789+0.411867im\n",
       "    -0.335121+0.0im         …    0.339276+0.0im"
      ]
     },
     "metadata": {},
     "output_type": "display_data"
    }
   ],
   "source": [
    "eigen(Hermitian(C_cuda|>Array)|>CuArray)"
   ]
  }
 ],
 "metadata": {
  "kernelspec": {
   "display_name": "Julia 1.10.2",
   "language": "julia",
   "name": "julia-1.10"
  },
  "language_info": {
   "file_extension": ".jl",
   "mimetype": "application/julia",
   "name": "julia",
   "version": "1.10.2"
  }
 },
 "nbformat": 4,
 "nbformat_minor": 2
}
